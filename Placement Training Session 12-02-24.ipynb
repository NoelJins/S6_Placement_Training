{
 "cells": [
  {
   "cell_type": "code",
   "execution_count": 23,
   "id": "57e21ac9",
   "metadata": {},
   "outputs": [
    {
     "name": "stdout",
     "output_type": "stream",
     "text": [
      "Enter Weight in KG:73\n",
      "Enter Height in Meters:1.64\n",
      "!!!!! You are overweigh t!!!!\n"
     ]
    }
   ],
   "source": [
    "#if and elif\n",
    "a=float(input(\"Enter Weight in KG:\"))\n",
    "b=float(input(\"Enter Height in Meters:\"))\n",
    "\n",
    "bmi=(a/b**2)\n",
    "\n",
    "if(bmi<18.5):\n",
    "    print(\"!!!!!! You are Under Weight !!!!\")\n",
    "elif (bmi<25):\n",
    "    print(\"*&^%$#@ You are Normal @#$%^&*\")\n",
    "elif bmi<30:\n",
    "    print(\"!!!!! You are overweight !!!!\")\n",
    "else:\n",
    "    print(\"!!!!! You are obesity !!!!\")"
   ]
  },
  {
   "cell_type": "code",
   "execution_count": 30,
   "id": "15422a76",
   "metadata": {},
   "outputs": [
    {
     "name": "stdout",
     "output_type": "stream",
     "text": [
      "Enter Height in cms:153\n",
      "Enter age:14\n",
      "\tAmount is 100\n"
     ]
    }
   ],
   "source": [
    "#Nested if\n",
    "h=float(input(\"Enter Height in cms:\"))\n",
    "if h>150:\n",
    "    a=int(input(\"Enter age:\"))\n",
    "    if(a>20):\n",
    "        print(\"\\tAmount is 500\")\n",
    "    elif(a>=15 and a<=20):\n",
    "        print(\"\\tAmount is 250\")\n",
    "    else:\n",
    "        print(\"\\tAmount is 100\")\n",
    "else:\n",
    "    print(\"!!Entry not allowed!!\")"
   ]
  },
  {
   "cell_type": "code",
   "execution_count": 31,
   "id": "1d6b29aa",
   "metadata": {},
   "outputs": [
    {
     "name": "stdout",
     "output_type": "stream",
     "text": [
      "Enter Weight in KG:73\n",
      "Enter Height in Meters:1.64\n",
      "!!!!!! Your bmi is 27.141582391433676 and you are overweight !!!!\n"
     ]
    }
   ],
   "source": [
    "#Print using f-string\n",
    "a=float(input(\"Enter Weight in KG:\"))\n",
    "b=float(input(\"Enter Height in Meters:\"))\n",
    "\n",
    "bmi=(a/b**2)\n",
    "\n",
    "if(bmi<18.5):\n",
    "    print(f\"!!!!!! Your BMI is {bmi} and you are Under Weight !!!!\")\n",
    "elif (bmi<25):\n",
    "    print(f\"*&^%$#@ Your BMI is {bmi} and you are @#$%^&*\")\n",
    "elif bmi<30:\n",
    "    print(f\"!!!!!! Your BMI is {bmi} and you are overweight !!!!\")\n",
    "else:\n",
    "    print(f\"!!!!!! Your BMI is {bmi} and you are obesity !!!!\")"
   ]
  },
  {
   "cell_type": "code",
   "execution_count": null,
   "id": "ded36323",
   "metadata": {},
   "outputs": [],
   "source": []
  }
 ],
 "metadata": {
  "kernelspec": {
   "display_name": "Python 3 (ipykernel)",
   "language": "python",
   "name": "python3"
  },
  "language_info": {
   "codemirror_mode": {
    "name": "ipython",
    "version": 3
   },
   "file_extension": ".py",
   "mimetype": "text/x-python",
   "name": "python",
   "nbconvert_exporter": "python",
   "pygments_lexer": "ipython3",
   "version": "3.9.13"
  }
 },
 "nbformat": 4,
 "nbformat_minor": 5
}
